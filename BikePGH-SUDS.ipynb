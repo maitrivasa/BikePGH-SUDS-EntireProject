{
 "cells": [
  {
   "cell_type": "code",
   "execution_count": 92,
   "metadata": {},
   "outputs": [],
   "source": [
    "# importing the necessary modules\n",
    "\n",
    "import pandas as pd\n",
    "import numpy as np\n",
    "import matplotlib.pyplot as plt\n",
    "import statsmodels.api as sm\n",
    "import seaborn as sns\n",
    "from pandas.io.sas.sas7bdat import _column\n",
    "from sklearn.linear_model import LinearRegression\n",
    "from sklearn.model_selection import train_test_split\n",
    "from sklearn import linear_model\n",
    "from sklearn.metrics import mean_squared_error\n",
    "\n",
    "pd.set_option('display.max_rows',10000)\n",
    "pd.set_option('display.max_columns',100)\n",
    "pd.set_option('display.max_colwidth',100)\n",
    "pd.set_option('display.width',None)\n",
    "\n",
    "def plot_insight(categorical_col_name):\n",
    "    third_time = attending_3rd_time[categorical_col_name].value_counts()\n",
    "    first_time = attending_1st_time[categorical_col_name].value_counts()\n",
    "    third_time = pd.DataFrame(third_time)\n",
    "    third_time = third_time.rename(columns = {categorical_col_name:'Count'})\n",
    "    third_time.index.names = [categorical_col_name]\n",
    "    third_time = third_time.transpose()\n",
    "\n",
    "    first_time = pd.DataFrame(first_time)\n",
    "    first_time = first_time.rename(columns = {categorical_col_name:'Count'})\n",
    "    first_time.index.names = [categorical_col_name]\n",
    "    first_time = first_time.transpose()\n",
    "\n",
    "    sns.catplot(kind=\"bar\", data=third_time, color=\"Gold\")\n",
    "    sns.catplot(kind=\"bar\", data=first_time, color=\"Black\")"
   ]
  },
  {
   "cell_type": "markdown",
   "metadata": {},
   "source": [
    "Cleaning the data. Removing the first two columns because they are blank and contains index and timestamp, which are not required for the analysis"
   ]
  },
  {
   "cell_type": "code",
   "execution_count": 93,
   "metadata": {},
   "outputs": [],
   "source": [
    "\n",
    "df = pd.read_excel(\"SUDS.xlsx\")\n",
    "\n",
    "col = df.columns[0]\n",
    "\n",
    "df.drop(columns=col, inplace = True)"
   ]
  },
  {
   "cell_type": "markdown",
   "metadata": {},
   "source": [
    "Renaming the columns."
   ]
  },
  {
   "cell_type": "code",
   "execution_count": 94,
   "metadata": {},
   "outputs": [],
   "source": [
    "df = df.rename(columns = {'X1..What.do.you.like.best.about..OpenStreetsPGH....check.all.that.apply.':'Best_about_BikePGH'})\n",
    "df = df.rename(columns = {'X2..Have.you.attended.OpenStreetsPGH.before...check.one.':'Attended_Before'})\n",
    "df = df.rename(columns = {'X3..How.did.you.hear.about.OpenStreetsPGH...check.all.that.apply.':'How_you_heard'})\n",
    "df = df.rename(columns = {'X4..What.are.your.primary.activities.at.OpenStreetsPGH..check.up.to.2.':'Primary_activities'})\n",
    "df = df.rename(columns = {'X5..How.long.will.you.spend.at.OSP.today.':'Time_you_will_spend'})\n",
    "df = df.rename(columns = {'X6..Do.you.typically.walk.for.exercise..not.including.OpenStreetsPGH..':'Walking_tendency'})\n",
    "df = df.rename(columns = {'X7..Do.you.typically.bike.for.exercise..not.including.OpenStreetsPGH..':'Biking_tendency'})\n",
    "df = df.rename(columns = {'X8..What.s.your.likelihood.of.walking.for.exercise.in.the.future.':'Likelihood_walking_exercise'})\n",
    "df = df.rename(columns = {'X9..What.s.your.likelihood.of.biking.for.exercise.in.the.future.':'Likelihood_biking_exercise'})\n",
    "df = df.rename(columns = {'X10..Do.you.typically.walk.for.transportation.trips..e.g..commute..errands..shop..visiting.friends..etc..':'Do_you_walk'})\n",
    "df = df.rename(columns = {'X11..Do.you.typically.Bike.for.transportation.trips.':'Do_you_bike'})\n",
    "df = df.rename(columns = {'X12..What.s.your.likelihood.of.walking.for.transportation...trips.in.the.future.':'Likelihood_walking_transportation'})\n",
    "df = df.rename(columns = {'X13..What.s.your.likelihood.of.biking.for.transportation...trips.in.the.future.':'Likelihood_biking_transportation'})\n",
    "df = df.rename(columns = {'X14..What.would.get.you.riding.a.bike.more.often.':'Reasons_for_biking'})\n",
    "df = df.rename(columns = {'X15..Yes.or.no..did.you.know.that.the.nonprofit.organization..Bike.Pittsburgh..organizes.OpenstreetsPGH..':'BikePGH_organizes_OSPGH'})\n",
    "df = df.rename(columns = {'Did.you.bring.any.children.to.OSP..if.so.write.the.number.of.childres.next.to.the.corresponding.age.range....0.3.year.old.':'Children_0-3'})\n",
    "df = df.rename(columns = {'Did.you.bring.any.children.to.OSP..if.so.write.the.number.of.childres.next.to.the.corresponding.age.range....4.8.year.old..':'Children_4-8'})\n",
    "df = df.rename(columns = {'Did.you.bring.any.children.to.OSP..if.so.write.the.number.of.childres.next.to.the.corresponding.age.range....9.13.year.old.':'Children_9-13'})\n",
    "df = df.rename(columns = {'Did.you.bring.any.children.to.OSP..if.so.write.the.number.of.childres.next.to.the.corresponding.age.range....14.17.year.old.':'Children_14-17'})\n",
    "df = df.rename(columns = {'X17..Did.you.your.family.spend.any.money.or.do.you.plan.on.spending.any.money.today.at.OpenStreetsPGH.':'Money_spent_in_OSP'})\n",
    "df = df.rename(columns = {'X18.Would.you.attend.another.OpenStreetsPGH.in.the.future.':'Attend_in_future'})\n",
    "df = df.rename(columns = {'Race.or.Ethnicity':'Race'})\n",
    "df = df.rename(columns = {'Gender.Identity':'Gender'})\n",
    "df = df.rename(columns = {'Zip.Code':'ZipCode'})\n",
    "df = df.rename(columns = {'Household.Income':'Income'})\n",
    "df = df.rename(columns = {'city':'City'})\n",
    "df = df.rename(columns = {'state':'State'})\n",
    "df = df.rename(columns = {'latitude':'Latitude'})\n",
    "df = df.rename(columns = {'longitude':'Longitude'})"
   ]
  },
  {
   "cell_type": "code",
   "execution_count": 95,
   "metadata": {},
   "outputs": [
    {
     "name": "stdout",
     "output_type": "stream",
     "text": [
      "Index(['Best_about_BikePGH', 'Attended_Before', 'How_you_heard',\n",
      "       'Primary_activities', 'Time_you_will_spend', 'Walking_tendency',\n",
      "       'Biking_tendency', 'Likelihood_walking_exercise',\n",
      "       'Likelihood_biking_exercise', 'Do_you_walk', 'Do_you_bike',\n",
      "       'Likelihood_walking_transportation', 'Likelihood_biking_transportation',\n",
      "       'Reasons_for_biking', 'BikePGH_organizes_OSPGH', 'Children_0-3',\n",
      "       'Children_4-8', 'Children_9-13', 'Children_14-17', 'Money_spent_in_OSP',\n",
      "       'Attend_in_future', 'Age', 'Race', 'Gender', 'ZipCode', 'Income',\n",
      "       'City', 'State', 'Latitude', 'Longitude'],\n",
      "      dtype='object')\n"
     ]
    }
   ],
   "source": [
    "# Printing the column names to get the clear picture\n",
    "\n",
    "print(df.columns)"
   ]
  },
  {
   "cell_type": "markdown",
   "metadata": {},
   "source": [
    "Preparing the data for multiple regression. Mapping the variables to the correct values.\n",
    "In case of variables which are in between some numerical values, I have taken up a calculated estimate.\n",
    "Printing the unique names to get the clear picture of unique values in the columns."
   ]
  },
  {
   "cell_type": "code",
   "execution_count": 96,
   "metadata": {},
   "outputs": [
    {
     "name": "stdout",
     "output_type": "stream",
     "text": [
      "[nan 'Between $10 and $25' 'Between $25 and $50' 'NONE' 'Less than $10'\n",
      " 'More than $50']\n"
     ]
    }
   ],
   "source": [
    "\n",
    "df['Attended_Before'] = df['Attended_Before'].map({'This is my first time':0,\n",
    "                                                   'once before':1,\n",
    "                                                   '2-3 times':2,\n",
    "                                                   '4-5 times':4})\n",
    "\n",
    "print(df['Money_spent_in_OSP'].unique())"
   ]
  },
  {
   "cell_type": "code",
   "execution_count": 97,
   "metadata": {},
   "outputs": [
    {
     "name": "stdout",
     "output_type": "stream",
     "text": [
      "[nan 20. 40. 10.]\n"
     ]
    }
   ],
   "source": [
    "\n",
    "df['Money_spent_in_OSP'] = df['Money_spent_in_OSP'].map({'Between $10 and $25':20,\n",
    "                                                         'Between $25 and $50':40,\n",
    "                                                         'Less than $10':10,\n",
    "                                                         'More than $50:':60})\n",
    "\n",
    "print(df['Money_spent_in_OSP'].unique())"
   ]
  },
  {
   "cell_type": "code",
   "execution_count": 98,
   "metadata": {},
   "outputs": [
    {
     "name": "stdout",
     "output_type": "stream",
     "text": [
      "[nan 'Caucasian' 'African American' 'Irish Italian' 'Hispanic' 'Asian'\n",
      " 'Latina' 'Black']\n"
     ]
    }
   ],
   "source": [
    "df['Race'] = df['Race'].map({'Caucasian ':'Caucasian',\n",
    "                             'Irish Italan': 'Irish Italian',\n",
    "                             'African-American ': 'African American',\n",
    "                             'African American ':'African American',\n",
    "                             'African-American': 'African American',\n",
    "                             'Caucasian / non hispanic':'Caucasian',\n",
    "                             'Asian ':'Asian',\n",
    "                             'European mixed':'Hispanic',\n",
    "                             'Aftican-Indian-American':'African American',\n",
    "                             'Hispanic':'Hispanic',\n",
    "                             'Latina':'Latina',\n",
    "                             'Asian':'Asian',\n",
    "                             'Black':'Black',\n",
    "                             'African American/ caribbean': 'African American',\n",
    "                             'White':'Hispanic',\n",
    "                             })\n",
    "\n",
    "print(df['Race'].unique())"
   ]
  },
  {
   "cell_type": "code",
   "execution_count": 99,
   "metadata": {},
   "outputs": [
    {
     "name": "stdout",
     "output_type": "stream",
     "text": [
      "[12. 15. 16. 17. 19. 20. 21. 22. 23. 24. 25. 26. 27. 28. 29. 30. 31. 32.\n",
      " 33. 34. 35. 36. 37. 38. 39. 40. 41. 42. 43. 45. 46. 47. 48. 49. 50. 52.\n",
      " 53. 54. 55. 56. 57. 58. 59. 60. 61. 62. 63. 64. 65. 66. 67. 69. 72. 75.\n",
      " 86. 87. nan]\n"
     ]
    }
   ],
   "source": [
    "df['Age'] = df['Age'].replace(199,19)\n",
    "\n",
    "print(df['Age'].unique())"
   ]
  },
  {
   "cell_type": "code",
   "execution_count": 100,
   "metadata": {},
   "outputs": [
    {
     "name": "stdout",
     "output_type": "stream",
     "text": [
      "['Male' 'Female' nan 'Other']\n"
     ]
    }
   ],
   "source": [
    "\n",
    "df['Gender'] = df['Gender'].replace('Non-binary/ other','Other')\n",
    "\n",
    "print(df['Gender'].unique())"
   ]
  },
  {
   "cell_type": "code",
   "execution_count": 101,
   "metadata": {},
   "outputs": [
    {
     "name": "stdout",
     "output_type": "stream",
     "text": [
      "[    nan  40000.  20000.  85000.  65000. 135000. 115000. 170000.]\n",
      "[nan 'PA' 'OH' 'NY']\n"
     ]
    }
   ],
   "source": [
    "\n",
    "df['Income'] = df['Income'].map({'25,000 - 49,999': 40000,\n",
    "                                 '<25,000':20000,\n",
    "                                 '75,000 - 99,999': 85000,\n",
    "                                 '50,000 - 74,999': 65000,\n",
    "                                 '125,000 - 149,000': 135000,\n",
    "                                 '100,000 - 124,999': 115000,\n",
    "                                 '>150,000': 170000})\n",
    "\n",
    "print(df['Income'].unique())\n",
    "\n",
    "print(df['State'].unique())"
   ]
  },
  {
   "cell_type": "markdown",
   "metadata": {},
   "source": [
    "Combining the relevant columns for multiple regression, and dropping all the NaN values so that we get a clear dataframe of objects where each and every data is present"
   ]
  },
  {
   "cell_type": "code",
   "execution_count": 102,
   "metadata": {},
   "outputs": [],
   "source": [
    "regression_dataframe = pd.DataFrame([df['Attended_Before'], df['Money_spent_in_OSP'],\n",
    "                                     df['Race'], df['Age'], df['Gender'],df['Income']])\n",
    "\n",
    "regression_dataframe_main = regression_dataframe.transpose()\n",
    "\n",
    "regression_dataframe = regression_dataframe_main.dropna()\n",
    "\n",
    "# print(regression_dataframe) "
   ]
  },
  {
   "cell_type": "markdown",
   "metadata": {},
   "source": [
    "Preparing the dummy variables(Race and Gender).\n",
    "Creating the first basetable(DataFrame to be used for the regression) by dropping the unnecessary columns."
   ]
  },
  {
   "cell_type": "raw",
   "metadata": {},
   "source": [
    "Creating the independent variable(X) and dependent variables(y)\n",
    "Performing the regression and computing the r-square value and RMSE"
   ]
  },
  {
   "cell_type": "code",
   "execution_count": 103,
   "metadata": {},
   "outputs": [
    {
     "name": "stdout",
     "output_type": "stream",
     "text": [
      "Rsquare: 0.20835881443278048\n",
      "Root Mean Squared Error: 45760.254435371724\n"
     ]
    }
   ],
   "source": [
    "dummy_race = pd.get_dummies(regression_dataframe['Race'])\n",
    "dummy_gender = pd.get_dummies(regression_dataframe['Gender'])\n",
    "basetable = pd.concat([regression_dataframe, dummy_race, dummy_gender], axis = 1, sort = False)\n",
    "basetable = basetable.drop(columns = ['Race', 'Gender','Attended_Before'])\n",
    "# print(basetable)\n",
    "# Considered all the columns except the dependent variable\n",
    "X = basetable.drop(columns = ['Income'])\n",
    "# Our dependent variables\n",
    "y = basetable['Income']\n",
    "# creating the train and test datasets\n",
    "X_train, X_test, y_train, y_test = train_test_split(X, y, test_size = 0.1, random_state=21)\n",
    "# Create the regressor: reg_all\n",
    "reg_all = LinearRegression()\n",
    "\n",
    "# Fit the regressor to the training data\n",
    "reg_all.fit(X_train,y_train)\n",
    "\n",
    "# Predict on the test data: y_pred\n",
    "y_pred = reg_all.predict(X_test)\n",
    "\n",
    "# Compute and print R^2 and RMSE\n",
    "print(\"Rsquare: {}\".format(reg_all.score(X_test, y_test)))\n",
    "rmse = np.sqrt(mean_squared_error(y_test,y_pred))\n",
    "print(\"Root Mean Squared Error: {}\".format(rmse))"
   ]
  },
  {
   "cell_type": "code",
   "execution_count": 104,
   "metadata": {},
   "outputs": [],
   "source": [
    "# 'Attended_Before'\n",
    "# 'Money_spent_in_OSP'\n",
    "# 'Race'\n",
    "# 'Age'\n",
    "# 'Gender'\n",
    "# 'Income'\n",
    "# dataframe_model2 = regression_dataframe_main.drop(columns = ['Race','Attended_Before'])\n",
    "# dataframe_model2 = dataframe_model2.dropna()\n",
    "# print(dataframe_model2.columns)\n",
    "# dummy_gender = pd.get_dummies(dataframe_model2['Gender'])\n",
    "# basetable = pd.concat([dataframe_model2, dummy_gender], axis = 1, sort = False)\n",
    "# basetable = basetable.drop(columns = ['Gender'])\n",
    "# # Considered all the columns except the dependent variable\n",
    "# X = basetable.drop(columns = ['Income'])\n",
    "# # Our dependent variables\n",
    "# y = basetable['Income']\n",
    "# # creating the train and test datasets\n",
    "# X_train, X_test, y_train, y_test = train_test_split(X, y, test_size = 0.3, random_state=21)\n",
    "# # Create the regressor: reg_all\n",
    "# reg_all = LinearRegression()\n",
    "\n",
    "# # Fit the regressor to the training data\n",
    "# reg_all.fit(X_train,y_train)\n",
    "\n",
    "# # Predict on the test data: y_pred\n",
    "# y_pred = reg_all.predict(X_test)\n",
    "\n",
    "# # Compute and print R^2 and RMSE\n",
    "# print(\"Rsquare: {}\".format(reg_all.score(X_test, y_test)))\n",
    "# rmse = np.sqrt(mean_squared_error(y_test,y_pred))\n",
    "# print(\"Root Mean Squared Error: {}\".format(rmse))"
   ]
  },
  {
   "cell_type": "code",
   "execution_count": 105,
   "metadata": {},
   "outputs": [],
   "source": [
    "# dataframe_model3 = regression_dataframe_main.drop(columns = ['Race','Attended_Before','Money_spent_in_OSP'])\n",
    "# dataframe_model3 = dataframe_model3.dropna()\n",
    "# print(dataframe_model3.columns)\n",
    "# dummy_gender = pd.get_dummies(dataframe_model3['Gender'])\n",
    "# basetable = pd.concat([dataframe_model3, dummy_gender], axis = 1, sort = False)\n",
    "# basetable = basetable.drop(columns = ['Gender'])\n",
    "# # Considered all the columns except the dependent variable\n",
    "# X = basetable.drop(columns = ['Income'])\n",
    "# # Our dependent variables\n",
    "# y = basetable['Income']\n",
    "# # creating the train and test datasets\n",
    "# X_train, X_test, y_train, y_test = train_test_split(X, y, test_size = 0.1, random_state=21)\n",
    "# # Create the regressor: reg_all\n",
    "# reg_all = LinearRegression()\n",
    "\n",
    "# # Fit the regressor to the training data\n",
    "# reg_all.fit(X_train,y_train)\n",
    "\n",
    "# # Predict on the test data: y_pred\n",
    "# y_pred = reg_all.predict(X_test)\n",
    "\n",
    "# # Compute and print R^2 and RMSE\n",
    "# print(\"Rsquare: {}\".format(reg_all.score(X_test, y_test)))\n",
    "# rmse = np.sqrt(mean_squared_error(y_test,y_pred))\n",
    "# print(\"Root Mean Squared Error: {}\".format(rmse))"
   ]
  },
  {
   "cell_type": "code",
   "execution_count": null,
   "metadata": {},
   "outputs": [],
   "source": []
  },
  {
   "cell_type": "code",
   "execution_count": null,
   "metadata": {},
   "outputs": [],
   "source": []
  },
  {
   "cell_type": "code",
   "execution_count": null,
   "metadata": {},
   "outputs": [],
   "source": []
  },
  {
   "cell_type": "markdown",
   "metadata": {},
   "source": [
    "DELIVERABLE - 1"
   ]
  },
  {
   "cell_type": "markdown",
   "metadata": {},
   "source": [
    "“What makes a high-income person attending their 3rd event differ from a\n",
    "high-income person who attends only once?”"
   ]
  },
  {
   "cell_type": "markdown",
   "metadata": {},
   "source": [
    "Insight on age"
   ]
  },
  {
   "cell_type": "code",
   "execution_count": 106,
   "metadata": {},
   "outputs": [
    {
     "name": "stdout",
     "output_type": "stream",
     "text": [
      "Interpretation of average age with income > $80,000: \n",
      "Average age of people attending 3rd time :  42.09090909090909\n",
      "Average age of people attending 1st time :  44.04761904761905\n",
      "Insight : No major age difference between the two groups\n"
     ]
    },
    {
     "data": {
      "image/png": "[encoded data removed]",
      "text/plain": [
       "<Figure size 360x360 with 1 Axes>"
      ]
     },
     "metadata": {},
     "output_type": "display_data"
    }
   ],
   "source": [
    "age = []\n",
    "temp = []\n",
    "attending_3rd_time = df[df['Attended_Before'] == 2]\n",
    "attending_3rd_time = attending_3rd_time[attending_3rd_time['Income'] > 80000]\n",
    "temp.append(attending_3rd_time['Age'].mean())\n",
    "attending_1st_time = df[df['Attended_Before'] == 0]\n",
    "attending_1st_time = attending_1st_time[attending_1st_time['Income'] > 80000]\n",
    "temp.append(attending_1st_time['Age'].mean())\n",
    "age.append(temp)\n",
    "name = ['Attending_3rd_time','Attending_1st_time']\n",
    "data = pd.DataFrame(age, columns = name)\n",
    "print(\"Interpretation of average age with income > $80,000: \")\n",
    "print(\"Average age of people attending 3rd time : \", attending_3rd_time['Age'].mean())\n",
    "print(\"Average age of people attending 1st time : \", attending_1st_time['Age'].mean())\n",
    "sns.catplot(kind=\"bar\", data=data)\n",
    "print(\"Insight : No major age difference between the two groups\")"
   ]
  },
  {
   "cell_type": "markdown",
   "metadata": {},
   "source": [
    "Insight on State"
   ]
  },
  {
   "cell_type": "code",
   "execution_count": 107,
   "metadata": {},
   "outputs": [
    {
     "name": "stdout",
     "output_type": "stream",
     "text": [
      "Insight: No major difference spotted.\n"
     ]
    },
    {
     "data": {
      "image/png": "[encoded data removed]",
      "text/plain": [
       "<Figure size 360x360 with 1 Axes>"
      ]
     },
     "metadata": {},
     "output_type": "display_data"
    },
    {
     "data": {
      "image/png": "[encoded data removed]",
      "text/plain": [
       "<Figure size 360x360 with 1 Axes>"
      ]
     },
     "metadata": {},
     "output_type": "display_data"
    }
   ],
   "source": [
    "plot_insight('State')\n",
    "print(\"Insight: No major difference spotted.\")"
   ]
  },
  {
   "cell_type": "markdown",
   "metadata": {},
   "source": [
    "Insight on city"
   ]
  },
  {
   "cell_type": "code",
   "execution_count": 108,
   "metadata": {},
   "outputs": [
    {
     "name": "stdout",
     "output_type": "stream",
     "text": [
      "Insight: The event is attracting people from differenct cities who are willing to attend the event for the first time!\n"
     ]
    },
    {
     "data": {
      "image/png": "[encoded data removed]",
      "text/plain": [
       "<Figure size 360x360 with 1 Axes>"
      ]
     },
     "metadata": {},
     "output_type": "display_data"
    },
    {
     "data": {
      "image/png": "[encoded data removed]",
      "text/plain": [
       "<Figure size 360x360 with 1 Axes>"
      ]
     },
     "metadata": {},
     "output_type": "display_data"
    }
   ],
   "source": [
    "plot_insight('City')\n",
    "print(\"Insight: The event is attracting people from differenct cities who are willing to attend the event for the first time!\")\n"
   ]
  },
  {
   "cell_type": "markdown",
   "metadata": {},
   "source": [
    "Insight on Gender"
   ]
  },
  {
   "cell_type": "code",
   "execution_count": 109,
   "metadata": {
    "scrolled": false
   },
   "outputs": [
    {
     "name": "stdout",
     "output_type": "stream",
     "text": [
      "Insight: No major differences spotted\n"
     ]
    },
    {
     "data": {
      "image/png": "[encoded data removed]",
      "text/plain": [
       "<Figure size 360x360 with 1 Axes>"
      ]
     },
     "metadata": {},
     "output_type": "display_data"
    },
    {
     "data": {
      "image/png": "[encoded data removed]",
      "text/plain": [
       "<Figure size 360x360 with 1 Axes>"
      ]
     },
     "metadata": {},
     "output_type": "display_data"
    }
   ],
   "source": [
    "plot_insight('Gender')\n",
    "print(\"Insight: No major differences spotted\")"
   ]
  },
  {
   "cell_type": "markdown",
   "metadata": {},
   "source": [
    "Insight on Race"
   ]
  },
  {
   "cell_type": "code",
   "execution_count": 110,
   "metadata": {},
   "outputs": [
    {
     "name": "stdout",
     "output_type": "stream",
     "text": [
      "Insight: Caucasian, Hispanic and African American are present in both of the groups! While Asians are showing interest to become the part of the event for the first time.\n"
     ]
    },
    {
     "data": {
      "image/png": "[encoded data removed]",
      "text/plain": [
       "<Figure size 360x360 with 1 Axes>"
      ]
     },
     "metadata": {},
     "output_type": "display_data"
    },
    {
     "data": {
      "image/png": "[encoded data removed]",
      "text/plain": [
       "<Figure size 360x360 with 1 Axes>"
      ]
     },
     "metadata": {},
     "output_type": "display_data"
    }
   ],
   "source": [
    "plot_insight('Race')\n",
    "print('Insight: Caucasian, Hispanic and African American are present in both of the groups! While Asians are showing interest to become the part of the event for the first time.')"
   ]
  },
  {
   "cell_type": "markdown",
   "metadata": {},
   "source": [
    "Thoughts about whether they want to attend in future"
   ]
  },
  {
   "cell_type": "code",
   "execution_count": 111,
   "metadata": {},
   "outputs": [
    {
     "name": "stdout",
     "output_type": "stream",
     "text": [
      "Insight: People who are attending for the third time are absolutely loving it! But the people who attended for the first time have mixed reactions. But most of them said they will definitely attend again\n"
     ]
    },
    {
     "data": {
      "image/png": "[encoded data removed]",
      "text/plain": [
       "<Figure size 360x360 with 1 Axes>"
      ]
     },
     "metadata": {},
     "output_type": "display_data"
    },
    {
     "data": {
      "image/png": "[encoded data removed]",
      "text/plain": [
       "<Figure size 360x360 with 1 Axes>"
      ]
     },
     "metadata": {},
     "output_type": "display_data"
    }
   ],
   "source": [
    "plot_insight('Attend_in_future')\n",
    "print('Insight: People who are attending for the third time are absolutely loving it! But the people who attended for the first time have mixed reactions. But most of them said they will definitely attend again')"
   ]
  },
  {
   "cell_type": "code",
   "execution_count": 112,
   "metadata": {},
   "outputs": [
    {
     "name": "stdout",
     "output_type": "stream",
     "text": [
      "People who are regular attenders, tend to spend more time\n"
     ]
    },
    {
     "data": {
      "image/png": "[encoded data removed]",
      "text/plain": [
       "<Figure size 360x360 with 1 Axes>"
      ]
     },
     "metadata": {},
     "output_type": "display_data"
    },
    {
     "data": {
      "image/png": "[encoded data removed]",
      "text/plain": [
       "<Figure size 360x360 with 1 Axes>"
      ]
     },
     "metadata": {},
     "output_type": "display_data"
    }
   ],
   "source": [
    "plot_insight('Time_you_will_spend')\n",
    "print(\"People who are regular attenders, tend to spend more time\")"
   ]
  },
  {
   "cell_type": "markdown",
   "metadata": {},
   "source": [
    "Insight on the Walking tendency"
   ]
  },
  {
   "cell_type": "code",
   "execution_count": 113,
   "metadata": {
    "scrolled": true
   },
   "outputs": [
    {
     "name": "stdout",
     "output_type": "stream",
     "text": [
      "Insight: Not much difference!\n"
     ]
    },
    {
     "data": {
      "image/png": "[encoded data removed]",
      "text/plain": [
       "<Figure size 360x360 with 1 Axes>"
      ]
     },
     "metadata": {},
     "output_type": "display_data"
    },
    {
     "data": {
      "image/png": "[encoded data removed]",
      "text/plain": [
       "<Figure size 360x360 with 1 Axes>"
      ]
     },
     "metadata": {},
     "output_type": "display_data"
    }
   ],
   "source": [
    "plot_insight('Walking_tendency')\n",
    "print(\"Insight: Not much difference!\")"
   ]
  },
  {
   "cell_type": "markdown",
   "metadata": {},
   "source": [
    "Insight on the biking tendency"
   ]
  },
  {
   "cell_type": "code",
   "execution_count": 114,
   "metadata": {
    "scrolled": false
   },
   "outputs": [
    {
     "name": "stdout",
     "output_type": "stream",
     "text": [
      "Insight: People tend to ride bike more than those who are coming for the first time\n"
     ]
    },
    {
     "data": {
      "image/png": "[encoded data removed]",
      "text/plain": [
       "<Figure size 360x360 with 1 Axes>"
      ]
     },
     "metadata": {},
     "output_type": "display_data"
    },
    {
     "data": {
      "image/png": "[encoded data removed]",
      "text/plain": [
       "<Figure size 360x360 with 1 Axes>"
      ]
     },
     "metadata": {},
     "output_type": "display_data"
    }
   ],
   "source": [
    "plot_insight('Biking_tendency')\n",
    "print(\"Insight: People tend to ride bike more than those who are coming for the first time\")"
   ]
  },
  {
   "cell_type": "markdown",
   "metadata": {},
   "source": [
    "Insight on how much people are willing to spend in the event"
   ]
  },
  {
   "cell_type": "code",
   "execution_count": 115,
   "metadata": {},
   "outputs": [
    {
     "name": "stdout",
     "output_type": "stream",
     "text": [
      "Average money people likely to spend who are attending 3rd time :  21.904761904761905\n",
      "Average money people likely to spend who are attending 1st time :  21.57894736842105\n",
      "Insight : No major difference between the two groups. Both are equally likely to spend\n"
     ]
    },
    {
     "data": {
      "image/png": "[encoded data removed]",
      "text/plain": [
       "<Figure size 360x360 with 1 Axes>"
      ]
     },
     "metadata": {},
     "output_type": "display_data"
    }
   ],
   "source": [
    "spend = []\n",
    "temp = []\n",
    "temp.append(attending_3rd_time['Money_spent_in_OSP'].mean())\n",
    "temp.append(attending_1st_time['Money_spent_in_OSP'].mean())\n",
    "spend.append(temp)\n",
    "name = ['Attending_3rd_time','Attending_1st_time']\n",
    "data = pd.DataFrame(spend, columns = name)\n",
    "print(\"Average money people likely to spend who are attending 3rd time : \", attending_3rd_time['Money_spent_in_OSP'].mean())\n",
    "print(\"Average money people likely to spend who are attending 1st time : \", attending_1st_time['Money_spent_in_OSP'].mean())\n",
    "sns.catplot(kind=\"bar\", data=data)\n",
    "print(\"Insight : No major difference between the two groups. Both are equally likely to spend\")"
   ]
  },
  {
   "cell_type": "code",
   "execution_count": null,
   "metadata": {},
   "outputs": [],
   "source": []
  },
  {
   "cell_type": "code",
   "execution_count": 116,
   "metadata": {},
   "outputs": [],
   "source": [
    "\n",
    "\n",
    "# print((attended_3_times['Race'].value_counts()))\n",
    "# print((attended_2_times['Race'].value_counts()))\n",
    "# print((attended_3_times['Attend_in_future'].value_counts()))\n",
    "# print((attended_2_times['Attend_in_future'].value_counts()))\n",
    "# print((attended_3_times['Money_spent_in_OSP'].mean()))\n",
    "# print((attended_2_times['Money_spent_in_OSP'].mean()))\n",
    "# print((attended_3_times['BikePGH_organizes_OSPGH'].value_counts()))\n",
    "# print((attended_2_times['BikePGH_organizes_OSPGH'].value_counts()))\n",
    "# print((attended_3_times['Reasons_for_biking'].value_counts()))\n",
    "# print((attended_2_times['Reasons_for_biking'].value_counts()))"
   ]
  },
  {
   "cell_type": "code",
   "execution_count": 117,
   "metadata": {},
   "outputs": [],
   "source": [
    "# Filtering out the people who have attended\n",
    "# ['Best_about_BikePGH', 'Attended_Before', 'How_you_heard',\n",
    "#        'Primary_activities', 'Time_you_will_spend', 'Walking_tendency',\n",
    "#        'Biking_tendency', 'Likelihood_walking_exercise',\n",
    "#        'Likelihood_biking_exercise', 'Do_you_walk', 'Do_you_bike',\n",
    "#        'Likelihood_walking_transportation', 'Likelihood_biking_transportation',\n",
    "#        'Reasons_for_biking', 'BikePGH_organizes_OSPGH', 'Children_0-3',\n",
    "#        'Children_4-8', 'Children_9-13', 'Children_14-17', 'Money_spent_in_OSP',\n",
    "#        'Attend_in_future', 'Age', 'Race', 'Gender', 'ZipCode', 'Income',\n",
    "#        'City', 'State', 'Latitude', 'Longitude']"
   ]
  }
 ],
 "metadata": {
  "kernelspec": {
   "display_name": "Python 3",
   "language": "python",
   "name": "python3"
  },
  "language_info": {
   "codemirror_mode": {
    "name": "ipython",
    "version": 3
   },
   "file_extension": ".py",
   "mimetype": "text/x-python",
   "name": "python",
   "nbconvert_exporter": "python",
   "pygments_lexer": "ipython3",
   "version": "3.6.5"
  }
 },
 "nbformat": 4,
 "nbformat_minor": 2
}
